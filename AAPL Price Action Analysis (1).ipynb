{
 "cells": [
  {
   "cell_type": "markdown",
   "id": "b3ebd295",
   "metadata": {},
   "source": [
    "# AAPL Price Action Analysis\n",
    "\n",
    "I recently performed an exploratory data analysis on a stock price action dataset. One of the tickers was *AAPL*. I am going to explore month over month (MoM) price action action of *AAPL* using both **Python** and **SQL**"
   ]
  },
  {
   "cell_type": "code",
   "execution_count": 1,
   "id": "75b64811",
   "metadata": {},
   "outputs": [],
   "source": [
    "# importing packages\n",
    "\n",
    "import pandas as pd\n",
    "import numpy as np \n",
    "import matplotlib.pyplot as plt"
   ]
  },
  {
   "cell_type": "code",
   "execution_count": 6,
   "id": "607f4397",
   "metadata": {},
   "outputs": [],
   "source": [
    "# reading in dataset\n",
    "\n",
    "df = pd.read_csv(r\"C:\\Users\\togarro\\Downloads\\Stocks.csv\")"
   ]
  },
  {
   "cell_type": "code",
   "execution_count": 7,
   "id": "0ecaad04",
   "metadata": {},
   "outputs": [
    {
     "data": {
      "text/plain": [
       "(248, 8)"
      ]
     },
     "execution_count": 7,
     "metadata": {},
     "output_type": "execute_result"
    }
   ],
   "source": [
    "# shape of df\n",
    "\n",
    "df.shape"
   ]
  },
  {
   "cell_type": "markdown",
   "id": "7f633c5b",
   "metadata": {},
   "source": [
    "The dataset contains 248 rows and 8 columns."
   ]
  },
  {
   "cell_type": "code",
   "execution_count": 9,
   "id": "ec13b4b9",
   "metadata": {},
   "outputs": [
    {
     "data": {
      "text/plain": [
       "Ticker       False\n",
       "Date         False\n",
       "Open         False\n",
       "High         False\n",
       "Low          False\n",
       "Close        False\n",
       "Adj_Close    False\n",
       "Volume       False\n",
       "dtype: bool"
      ]
     },
     "execution_count": 9,
     "metadata": {},
     "output_type": "execute_result"
    }
   ],
   "source": [
    "# null values\n",
    "\n",
    "df.isna().any()"
   ]
  },
  {
   "cell_type": "markdown",
   "id": "8ce647c3",
   "metadata": {},
   "source": [
    "There are no null values."
   ]
  },
  {
   "cell_type": "code",
   "execution_count": 8,
   "id": "2ff75c97",
   "metadata": {},
   "outputs": [
    {
     "data": {
      "text/plain": [
       "array(['AAPL', 'MSFT', 'NFLX', 'GOOG'], dtype=object)"
      ]
     },
     "execution_count": 8,
     "metadata": {},
     "output_type": "execute_result"
    }
   ],
   "source": [
    "df['Ticker'].unique()"
   ]
  },
  {
   "cell_type": "markdown",
   "id": "13efd579",
   "metadata": {},
   "source": [
    "The dataset contains four unique 'Ticker' values."
   ]
  },
  {
   "cell_type": "code",
   "execution_count": 13,
   "id": "3cef42c6",
   "metadata": {},
   "outputs": [],
   "source": [
    "# converting date column to ISO 8601 format (YYYY-MM-DD)\n",
    "\n",
    "df['Date'] = pd.to_datetime(df['Date'])"
   ]
  },
  {
   "cell_type": "code",
   "execution_count": 15,
   "id": "d0eecbb9",
   "metadata": {},
   "outputs": [
    {
     "name": "stdout",
     "output_type": "stream",
     "text": [
      "2023-05-05 00:00:00\n",
      "2023-02-07 00:00:00\n",
      "87 days 00:00:00\n"
     ]
    }
   ],
   "source": [
    "# Date Range\n",
    "\n",
    "most_recent = df['Date'].max()\n",
    "least_recent = df['Date'].min()\n",
    "\n",
    "range = most_recent - least_recent\n",
    "\n",
    "print(most_recent)\n",
    "print(least_recent)\n",
    "print(range)"
   ]
  },
  {
   "cell_type": "markdown",
   "id": "ae0ada07",
   "metadata": {},
   "source": [
    "The dataset contains price data of the stock market for a total of 87 days beginning in February 7, 2023 and ending in May 5, 2023."
   ]
  },
  {
   "cell_type": "code",
   "execution_count": 17,
   "id": "c5d555ef",
   "metadata": {},
   "outputs": [
    {
     "data": {
      "text/plain": [
       "count     62.000000\n",
       "mean     158.240645\n",
       "std        7.360486\n",
       "min      145.310000\n",
       "25%      152.077500\n",
       "50%      158.055000\n",
       "75%      165.162500\n",
       "max      173.570000\n",
       "Name: Close, dtype: float64"
      ]
     },
     "execution_count": 17,
     "metadata": {},
     "output_type": "execute_result"
    }
   ],
   "source": [
    "# Statistical Metrics AAPL\n",
    "\n",
    "AAPL = df.query('Ticker == \"AAPL\"')\n",
    "\n",
    "AAPL['Close'].describe()"
   ]
  },
  {
   "cell_type": "code",
   "execution_count": 18,
   "id": "36b16052",
   "metadata": {},
   "outputs": [
    {
     "data": {
      "text/plain": [
       "<Axes: title={'center': 'AAPL Boxplot'}, ylabel='Price'>"
      ]
     },
     "execution_count": 18,
     "metadata": {},
     "output_type": "execute_result"
    },
    {
     "data": {
      "image/png": "[encoded data removed]",
      "text/plain": [
       "<Figure size 1500x500 with 2 Axes>"
      ]
     },
     "metadata": {},
     "output_type": "display_data"
    }
   ],
   "source": [
    "# Creating subplot\n",
    "fig, axs = plt.subplots(nrows =1 , ncols =2 , figsize = (15,5))\n",
    "\n",
    "# AAPL Histogram\n",
    "AAPL['Close'].plot(kind = 'hist', bins = 20, ax = axs[0], title = 'AAPL Histogram')\n",
    "\n",
    "# AAPL Boxplot \n",
    "AAPL['Close'].plot(kind = 'box', ax = axs[1], title = 'AAPL Boxplot',ylabel = 'Price', vert = False)"
   ]
  },
  {
   "cell_type": "markdown",
   "id": "f05d6fea",
   "metadata": {},
   "source": [
    "Despite the trimodal distribution in the histogram the AAPL 'Close' price dataset is evenly distributed as there is very little difference between the median and average."
   ]
  },
  {
   "cell_type": "code",
   "execution_count": 50,
   "id": "6e9d8c52",
   "metadata": {},
   "outputs": [],
   "source": [
    "# Creating new columns 'Month' and 'Year'\n",
    "\n",
    "AAPL['Month'] = AAPL['Date'].dt.month\n",
    "\n",
    "AAPL['Year'] = AAPL['Date'].dt.year"
   ]
  },
  {
   "cell_type": "code",
   "execution_count": 27,
   "id": "61d1bd5c",
   "metadata": {},
   "outputs": [
    {
     "data": {
      "text/html": [
       "<div>\n",
       "<style scoped>\n",
       "    .dataframe tbody tr th:only-of-type {\n",
       "        vertical-align: middle;\n",
       "    }\n",
       "\n",
       "    .dataframe tbody tr th {\n",
       "        vertical-align: top;\n",
       "    }\n",
       "\n",
       "    .dataframe thead th {\n",
       "        text-align: right;\n",
       "    }\n",
       "</style>\n",
       "<table border=\"1\" class=\"dataframe\">\n",
       "  <thead>\n",
       "    <tr style=\"text-align: right;\">\n",
       "      <th></th>\n",
       "      <th>Ticker</th>\n",
       "      <th>Date</th>\n",
       "      <th>Open</th>\n",
       "      <th>High</th>\n",
       "      <th>Low</th>\n",
       "      <th>Close</th>\n",
       "      <th>Adj_Close</th>\n",
       "      <th>Volume</th>\n",
       "      <th>Month</th>\n",
       "      <th>Year</th>\n",
       "    </tr>\n",
       "  </thead>\n",
       "  <tbody>\n",
       "    <tr>\n",
       "      <th>0</th>\n",
       "      <td>AAPL</td>\n",
       "      <td>2023-02-07</td>\n",
       "      <td>150.64</td>\n",
       "      <td>155.23</td>\n",
       "      <td>150.64</td>\n",
       "      <td>154.65</td>\n",
       "      <td>154.41</td>\n",
       "      <td>83322600.0</td>\n",
       "      <td>2</td>\n",
       "      <td>2023</td>\n",
       "    </tr>\n",
       "    <tr>\n",
       "      <th>1</th>\n",
       "      <td>AAPL</td>\n",
       "      <td>2023-02-08</td>\n",
       "      <td>153.88</td>\n",
       "      <td>154.58</td>\n",
       "      <td>151.17</td>\n",
       "      <td>151.92</td>\n",
       "      <td>151.69</td>\n",
       "      <td>64120100.0</td>\n",
       "      <td>2</td>\n",
       "      <td>2023</td>\n",
       "    </tr>\n",
       "    <tr>\n",
       "      <th>2</th>\n",
       "      <td>AAPL</td>\n",
       "      <td>2023-02-09</td>\n",
       "      <td>153.78</td>\n",
       "      <td>154.33</td>\n",
       "      <td>150.42</td>\n",
       "      <td>150.87</td>\n",
       "      <td>150.64</td>\n",
       "      <td>56007100.0</td>\n",
       "      <td>2</td>\n",
       "      <td>2023</td>\n",
       "    </tr>\n",
       "    <tr>\n",
       "      <th>3</th>\n",
       "      <td>AAPL</td>\n",
       "      <td>2023-02-10</td>\n",
       "      <td>149.46</td>\n",
       "      <td>151.34</td>\n",
       "      <td>149.22</td>\n",
       "      <td>151.01</td>\n",
       "      <td>151.01</td>\n",
       "      <td>57450700.0</td>\n",
       "      <td>2</td>\n",
       "      <td>2023</td>\n",
       "    </tr>\n",
       "    <tr>\n",
       "      <th>4</th>\n",
       "      <td>AAPL</td>\n",
       "      <td>2023-02-13</td>\n",
       "      <td>150.95</td>\n",
       "      <td>154.26</td>\n",
       "      <td>150.92</td>\n",
       "      <td>153.85</td>\n",
       "      <td>153.85</td>\n",
       "      <td>62199000.0</td>\n",
       "      <td>2</td>\n",
       "      <td>2023</td>\n",
       "    </tr>\n",
       "  </tbody>\n",
       "</table>\n",
       "</div>"
      ],
      "text/plain": [
       "  Ticker       Date    Open    High     Low   Close  Adj_Close      Volume  \\\n",
       "0   AAPL 2023-02-07  150.64  155.23  150.64  154.65     154.41  83322600.0   \n",
       "1   AAPL 2023-02-08  153.88  154.58  151.17  151.92     151.69  64120100.0   \n",
       "2   AAPL 2023-02-09  153.78  154.33  150.42  150.87     150.64  56007100.0   \n",
       "3   AAPL 2023-02-10  149.46  151.34  149.22  151.01     151.01  57450700.0   \n",
       "4   AAPL 2023-02-13  150.95  154.26  150.92  153.85     153.85  62199000.0   \n",
       "\n",
       "   Month  Year  \n",
       "0      2  2023  \n",
       "1      2  2023  \n",
       "2      2  2023  \n",
       "3      2  2023  \n",
       "4      2  2023  "
      ]
     },
     "execution_count": 27,
     "metadata": {},
     "output_type": "execute_result"
    }
   ],
   "source": [
    "#viewing newly added columns, 'Month' and 'Year'\n",
    "\n",
    "AAPL.head()"
   ]
  },
  {
   "cell_type": "code",
   "execution_count": 35,
   "id": "53bc055c",
   "metadata": {},
   "outputs": [
    {
     "name": "stdout",
     "output_type": "stream",
     "text": [
      "Month  Year\n",
      "2      2023    151.061333\n",
      "3      2023    154.964783\n",
      "4      2023    165.045789\n",
      "5      2023    168.988000\n",
      "Name: Close, dtype: float64\n"
     ]
    }
   ],
   "source": [
    "# Monthly AAPL Price Average\n",
    "\n",
    "MoM_Price_Avg = AAPL.groupby(['Month', 'Year'])['Close'].mean()\n",
    "\n",
    "print(MoM_Price_Avg)"
   ]
  },
  {
   "cell_type": "markdown",
   "id": "7e6437f1",
   "metadata": {},
   "source": [
    "### Calculating the MoM_Price_Avg Monthly Price and Percentage Change in SQL\n",
    "\n",
    "~~~ SQL\n",
    "/*Temp Table*/\n",
    "CREATE TEMP TABLE t1 AS\n",
    "SELECT\n",
    "  DISTINCT sub.Ticker, \n",
    "  sub.Month,\n",
    "  sub.Year, \n",
    "  ROUND(AVG(Close) OVER (PARTITION BY sub.Month,sub.Year ),2) AS Monthly_Price_Avg\n",
    "FROM\n",
    "(SELECT \n",
    "  Ticker, \n",
    "  EXTRACT(MONTH FROM Date) AS Month, \n",
    "  EXTRACT(YEAR FROM Date) AS Year,\n",
    "  Close\n",
    "FROM `single-being-353600.Stock_Exploratory_Data_Analysis.Stock_Market` \n",
    "WHERE Ticker = 'AAPL') AS sub\n",
    "ORDER BY sub.Month; -- subquery\n",
    "\n",
    "/*MoM AAPL Calculations*/\n",
    "SELECT\n",
    "  t1.Ticker, \n",
    "  t1.Month, \n",
    "  t1.Year, \n",
    "  t1.Monthly_Price_Avg, \n",
    "  COALESCE(ROUND(t1.Monthly_Price_Avg - LAG(t1.Monthly_Price_Avg,1) OVER (ORDER BY t1.Month),2),0) AS MoM_Price_Change,\n",
    "  COALESCE(ROUND((t1.Monthly_Price_Avg - LAG(t1.Monthly_Price_Avg,1) OVER (ORDER BY t1.Month)) / (LAG(t1.Monthly_Price_Avg,1) OVER (ORDER BY t1.Month)),2),0) * 100 AS MoM_Pct_Change\n",
    "FROM t1\n",
    "ORDER BY t1.Month;\n",
    "~~~\n",
    "\n",
    "**Result**\n",
    "\n",
    "|Ticker|Month|Year|Monthly_Price_Avg|MoM_Price_Change|MoM_Pct_Change|\n",
    "|---|---|---|---|---|---|\n",
    "|AAPL|2|2023|151.06|0.0|0.0|\n",
    "|AAPL|3|2023|154.96|3.9|3.0|\n",
    "|AAPL|4|2023|165.05|10.09|7.0|\n",
    "|AAPL|5|2023|168.99|3.94|2.0|\n"
   ]
  },
  {
   "cell_type": "code",
   "execution_count": 45,
   "id": "17eca5d0",
   "metadata": {},
   "outputs": [
    {
     "name": "stdout",
     "output_type": "stream",
     "text": [
      "           Ticker  Monthly_Price_Avg  MoM_Price_Change  MoM_Pct_Change\n",
      "Month Year                                                            \n",
      "2     2023   AAPL             151.06              0.00             0.0\n",
      "3     2023   AAPL             154.96              3.90             3.0\n",
      "4     2023   AAPL             165.05             10.09             7.0\n",
      "5     2023   AAPL             168.99              3.94             2.0\n"
     ]
    }
   ],
   "source": [
    "# Creating a dataframe with the results\n",
    "\n",
    "AAPL_Dic = {\n",
    "    'Ticker':['AAPL', 'AAPL', 'AAPL', 'AAPL'],\n",
    "    'Month': [2,3,4,5],\n",
    "    'Year': [2023,2023,2023,2023],\n",
    "    'Monthly_Price_Avg': [151.06,154.96,165.05,168.99],\n",
    "    'MoM_Price_Change': [0.0, 3.9,10.09,3.94],\n",
    "    'MoM_Pct_Change': [0.0,3.0,7.0,2.0]}\n",
    "\n",
    "AAPL_MoM_Metrics = pd.DataFrame(AAPL_Dic)\n",
    "\n",
    "AAPL_MoM_Metrics = AAPL_MoM_Metrics.set_index(['Month','Year'])\n",
    "\n",
    "print(AAPL_MoM_Metrics)"
   ]
  },
  {
   "cell_type": "code",
   "execution_count": 49,
   "id": "1aa4d764",
   "metadata": {},
   "outputs": [
    {
     "data": {
      "text/plain": [
       "<Axes: title={'center': 'MoM Pct Change'}, xlabel='Month,Year', ylabel='Pct Change'>"
      ]
     },
     "execution_count": 49,
     "metadata": {},
     "output_type": "execute_result"
    },
    {
     "data": {
      "image/png": "[encoded data removed]",
      "text/plain": [
       "<Figure size 1500x500 with 3 Axes>"
      ]
     },
     "metadata": {},
     "output_type": "display_data"
    }
   ],
   "source": [
    "# creating subplots\n",
    "\n",
    "fig,axs = plt.subplots(nrows = 1, ncols = 3, figsize = (15,5))\n",
    "\n",
    "# Plotting AAPL Metrics\n",
    "\n",
    "MoM_Price_Avg.plot(kind = 'line', ax = axs[0], title = 'MoM AAPL Price Average', xlabel = 'Month, Year', ylabel = 'Price', marker = 'o')\n",
    "AAPL_MoM_Metrics['MoM_Price_Change'].plot(kind = 'line', title = 'MoM Price Change', ax = axs[1], ylabel = 'Price Change', marker = 'o' )\n",
    "AAPL_MoM_Metrics['MoM_Pct_Change'].plot(kind = 'line', title = 'MoM Pct Change', ax = axs[2], ylabel = 'Pct Change', marker = 'o' )\n"
   ]
  },
  {
   "cell_type": "markdown",
   "id": "333c64db",
   "metadata": {},
   "source": [
    "There was an upward trend of AAPL price aciton in the dataset. The largest spike in price action was from March 2023 to April 2023. There was a price increase of $10.09, a 7% MoM."
   ]
  }
 ],
 "metadata": {
  "kernelspec": {
   "display_name": "Python 3 (ipykernel)",
   "language": "python",
   "name": "python3"
  },
  "language_info": {
   "codemirror_mode": {
    "name": "ipython",
    "version": 3
   },
   "file_extension": ".py",
   "mimetype": "text/x-python",
   "name": "python",
   "nbconvert_exporter": "python",
   "pygments_lexer": "ipython3",
   "version": "3.10.9"
  }
 },
 "nbformat": 4,
 "nbformat_minor": 5
}
